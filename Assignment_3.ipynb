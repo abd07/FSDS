{
 "cells": [
  {
   "cell_type": "raw",
   "id": "017a798e",
   "metadata": {},
   "source": [
    "Q.1 :\n",
    "Functions fulfills below features -\n",
    "- Modular approach where we can devide the problme in small pieces.\n",
    "- Modualar provides re-useability, whenever needed we can utilize the function defined to complete task.\n",
    "- readability"
   ]
  },
  {
   "cell_type": "raw",
   "id": "3903971c",
   "metadata": {},
   "source": [
    "Q.2 :\n",
    "When we call a function, it calls the function and execute the code."
   ]
  },
  {
   "cell_type": "raw",
   "id": "da3c8296",
   "metadata": {},
   "source": [
    "Q.3 :\n",
    "-   def <funName> :\n",
    "        statement1\n",
    "        statement2\n",
    "        return\n",
    "The keyword def creates a function."
   ]
  },
  {
   "cell_type": "raw",
   "id": "e9e7ef09",
   "metadata": {},
   "source": [
    "Q.4:\n",
    "- Funcrion contains set of instructions ready to execute when called.\n",
    "- Function call is the actual trigger to execute the statements written under the function.\n",
    "- Function call may or may not return the value. It is based on the defination of the function written.\n",
    "\n",
    "Example : def funTest: print(\"test\") <- Function defination\n",
    "print(funTest()) <-- Function Call    "
   ]
  },
  {
   "cell_type": "raw",
   "id": "59d33fb2",
   "metadata": {},
   "source": [
    "Q.5:\n",
    "- One gloabl and local scopes are depends on the functions or blokced written."
   ]
  },
  {
   "cell_type": "raw",
   "id": "4bae602a",
   "metadata": {},
   "source": [
    "Q.6:\n",
    "- they are terminated or cleared or removed from memory."
   ]
  },
  {
   "cell_type": "raw",
   "id": "a48c38c4",
   "metadata": {},
   "source": [
    "Q.7:\n",
    "- function can return a value to be passed at calling point if needed. Yes, we can have return value in an expression but need to cast the type if need."
   ]
  },
  {
   "cell_type": "raw",
   "id": "529d31f7",
   "metadata": {},
   "source": [
    "Q.8\n",
    "- Function returns 'None'."
   ]
  },
  {
   "cell_type": "raw",
   "id": "986323a6",
   "metadata": {},
   "source": [
    "Q.9\n",
    "- using global keyward."
   ]
  },
  {
   "cell_type": "raw",
   "id": "470f1e38",
   "metadata": {},
   "source": [
    "Q.10\n",
    "- NoneType"
   ]
  },
  {
   "cell_type": "raw",
   "id": "c50c74fa",
   "metadata": {},
   "source": [
    "Q.11\n",
    "- the import keyword import all the modules in the current directory which we can use later in our code or program.Here, the statement import the module areallyourpetsnamederica and its functions."
   ]
  },
  {
   "cell_type": "raw",
   "id": "445ab757",
   "metadata": {},
   "source": [
    "Q.12\n",
    "- from spam inport *\n",
    "bacon()"
   ]
  },
  {
   "cell_type": "raw",
   "id": "eb0ea1c5",
   "metadata": {},
   "source": [
    "Q.13\n",
    "- it can be prevented from exception handling mechanism."
   ]
  },
  {
   "cell_type": "raw",
   "id": "73e6c453",
   "metadata": {},
   "source": [
    "Q.14\n",
    "- try prevents code from crash, and in case of error or failure it call the except to handle the exception thrown by try."
   ]
  }
 ],
 "metadata": {
  "kernelspec": {
   "display_name": "Python 3 (ipykernel)",
   "language": "python",
   "name": "python3"
  },
  "language_info": {
   "codemirror_mode": {
    "name": "ipython",
    "version": 3
   },
   "file_extension": ".py",
   "mimetype": "text/x-python",
   "name": "python",
   "nbconvert_exporter": "python",
   "pygments_lexer": "ipython3",
   "version": "3.9.7"
  }
 },
 "nbformat": 4,
 "nbformat_minor": 5
}
