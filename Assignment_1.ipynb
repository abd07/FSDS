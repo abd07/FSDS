{
 "cells": [
  {
   "cell_type": "raw",
   "id": "c15d27e8",
   "metadata": {},
   "source": [
    "1. In the below elements which of them are values or an expression? eg:- values can be integer or string and expressions will be mathematical operators.\n",
    "* -> Expression\n",
    "'hello' -> Values\n",
    "-87.8 -> Values\n",
    "- -> Expression\n",
    "/ -> Expression\n",
    "+ -> Expression\t\n",
    "6 -> Values\n"
   ]
  },
  {
   "cell_type": "raw",
   "id": "34acd2e7",
   "metadata": {},
   "source": [
    "What is the difference between string and variable?\n",
    "-> a string is literal represents a text or value where as variable is storage that holds the value."
   ]
  },
  {
   "cell_type": "raw",
   "id": "84c33f1e",
   "metadata": {},
   "source": [
    "Describe three different data types.\n",
    "-> int : represents integrer value\n",
    "str : represents string literal\n",
    "float : represents float vale\n",
    "bool : represents boolean \n",
    "\n",
    "All are the built in data types"
   ]
  },
  {
   "cell_type": "raw",
   "id": "24de5d49",
   "metadata": {},
   "source": [
    "What is an expression made up of? What do all expressions do?\n",
    "-> expression is made of varible, and operators that results in coputation or assignment.\n",
    "ie 1+2=3, here +,= are expression and 1,2 are the variable/data and 3 is data resulted from computation 1+2"
   ]
  },
  {
   "cell_type": "raw",
   "id": "db156402",
   "metadata": {},
   "source": [
    "This assignment statements, like spam = 10. What is the difference between an expression and a statement?\n",
    "-> statememtn spam = 10, create a storage in memory names it as 'spam' and assign value 10. it is of type int. where as expression is evaluated, then computed and result is stored."
   ]
  },
  {
   "cell_type": "raw",
   "id": "d5336f04",
   "metadata": {},
   "source": [
    "After running the following code, what does the variable bacon contain?\n",
    "bacon = 22\n",
    "bacon + 1\n",
    "-> bacon = 22 : value 22 assigned to 'bacon'\n",
    "bacon + 1 : the value 1 is added and printed, but bacon would be 22 only as there isn't any assignment done."
   ]
  },
  {
   "cell_type": "raw",
   "id": "19259187",
   "metadata": {},
   "source": [
    "What should the values of the following two terms be?\n",
    "'spam' + 'spamspam'\n",
    "'spam' * 3\n",
    "-> 'spam' + 'spamspam' : perform concatination and print 'spamspamspam'\n",
    "'spam' * 3 : print the spam 3 time like, 'spamspamspam'\n",
    "hence the results are same for both."
   ]
  },
  {
   "cell_type": "raw",
   "id": "187301c8",
   "metadata": {},
   "source": [
    "Why is eggs a valid variable name while 100 is invalid?\n",
    "-> as per the rules variabl should not be a number and starts with alphabet or a special charater none ohter than '_'.\n",
    "hence 100 is invalid."
   ]
  },
  {
   "cell_type": "raw",
   "id": "41f25b81",
   "metadata": {},
   "source": [
    "What three functions can be used to get the integer, floating-point number, or string version of a value?\n",
    "-> int(<>), float(<>) and str(<>), <> : represents the value.  ie a = int(4)."
   ]
  },
  {
   "cell_type": "raw",
   "id": "2633494d",
   "metadata": {},
   "source": [
    "Why does this expression cause an error? How can you fix it?\n",
    "'I have eaten ' + 99 + ' burritos.'\n",
    "-> this resulted in error as the str and int can not be concatinated.\n",
    "Solution : 'I have eaten ' + str(99) + ' burritos.'"
   ]
  }
 ],
 "metadata": {
  "kernelspec": {
   "display_name": "Python 3 (ipykernel)",
   "language": "python",
   "name": "python3"
  },
  "language_info": {
   "codemirror_mode": {
    "name": "ipython",
    "version": 3
   },
   "file_extension": ".py",
   "mimetype": "text/x-python",
   "name": "python",
   "nbconvert_exporter": "python",
   "pygments_lexer": "ipython3",
   "version": "3.9.7"
  }
 },
 "nbformat": 4,
 "nbformat_minor": 5
}
