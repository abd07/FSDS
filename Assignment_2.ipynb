{
 "cells": [
  {
   "cell_type": "raw",
   "id": "25b55164",
   "metadata": {},
   "source": [
    "1.What are the two values of the Boolean data type? How do you write them?\n",
    "-> Below are the Two boolean values :\n",
    "True, False each holds value as 1, 0 respectively."
   ]
  },
  {
   "cell_type": "raw",
   "id": "e48218aa",
   "metadata": {},
   "source": [
    "What are the three different types of Boolean operators?\n",
    "-> and, or and not"
   ]
  },
  {
   "cell_type": "raw",
   "id": "de7e7d92",
   "metadata": {},
   "source": [
    "Make a list of each Boolean operator's truth tables (i.e. every possible combination of Boolean values for the operator and what it evaluate ).\n",
    "-> and\n",
    "T and T = T\n",
    "T and F = F\n",
    "F and F = F\n",
    "F and T = F\n",
    "or\n",
    "T or T = T\n",
    "T or F = T\n",
    "F or F = F\n",
    "F or T = T\n",
    "not\n",
    "not(T) = F\n",
    "not(F) = T"
   ]
  },
  {
   "cell_type": "raw",
   "id": "30e97872",
   "metadata": {},
   "source": [
    "What are the values of the following expressions?\n",
    "(5 > 4) and (3 == 5)\n",
    "not (5 > 4)\n",
    "(5 > 4) or (3 == 5)\n",
    "not ((5 > 4) or (3 == 5))\n",
    "(True and True) and (True == False)\n",
    "(not False) or (not True)\n",
    "\n",
    "-> (5 > 4) and (3 == 5) : T and F = F\n",
    "not (5 > 4) : not(T) = F\n",
    "(5 > 4) or (3 == 5) : (T) or (F) = T\n",
    "not ((5 > 4) or (3 == 5)) : not(T or F): not(T) : F\n",
    "(True and True) and (True == False) : (T) and (F) : F\n",
    "(not False) or (not True) : T or F : T"
   ]
  },
  {
   "cell_type": "raw",
   "id": "8378af21",
   "metadata": {},
   "source": [
    "What are the six comparison operators?\n",
    "-> <, >, <=, >=, =, !="
   ]
  },
  {
   "cell_type": "raw",
   "id": "dfbf635c",
   "metadata": {},
   "source": [
    "How do you tell the difference between the equal to and assignment operators?Describe a condition and when you would use one.\n",
    "-> when there is a comparion needed we go for equal to which results in boolean value. Where as we use assignment to assign a value it does not need to be boolean it can be any value."
   ]
  },
  {
   "cell_type": "raw",
   "id": "8c5bfa20",
   "metadata": {},
   "source": [
    "Identify the three blocks in this code:\n",
    "spam = 0\n",
    "if spam == 10:\n",
    "print('eggs')\n",
    "if spam > 5:\n",
    "print('bacon')\n",
    "else:\n",
    "print('ham')\n",
    "print('spam')\n",
    "print('spam')\n",
    "->\n",
    "spam = 0 : assignment\n",
    "if spam == 10:\n",
    "    print('eggs') : if block\n",
    "\n",
    "if spam > 5:\n",
    "    print('bacon')\n",
    "else:\n",
    "    print('ham') : if-else block\n",
    "\n",
    "print('spam')\n",
    "print('spam')"
   ]
  },
  {
   "cell_type": "raw",
   "id": "7d895f1a",
   "metadata": {},
   "source": [
    "Write code that prints Hello if 1 is stored in spam, prints Howdy if 2 is stored in spam, and prints Greetings! if anything else is stored in spam.\n",
    "->\n",
    "if spam == 1:\n",
    "    print('Hello')\n",
    "elif spam == 2:\n",
    "    print('Howdy')\n",
    "else:\n",
    "    print('Greetings!')"
   ]
  },
  {
   "cell_type": "raw",
   "id": "defbb611",
   "metadata": {},
   "source": [
    "If your programme is stuck in an endless loop, what keys you’ll press?\n",
    "-> esc"
   ]
  },
  {
   "cell_type": "raw",
   "id": "736dca14",
   "metadata": {},
   "source": [
    "How can you tell the difference between break and continue?\n",
    "-> break : stops current execution and comes out of the loop.\n",
    "continue : exclude the execution and start the loop form next iteration. it does not stops the loop."
   ]
  },
  {
   "cell_type": "raw",
   "id": "e4df2a2a",
   "metadata": {},
   "source": [
    "In a for loop, what is the difference between range(10), range(0, 10), and range(0, 10, 1)?\n",
    "-> \n",
    "range(10) : returns number from 0 - 9, increment by 1\n",
    "range(0, 10) : returns from 0 - 9, increment by 1\n",
    "range(0, 10, 1) : returns from 0 - 9, increment by 1, the third parameter."
   ]
  },
  {
   "cell_type": "raw",
   "id": "d809dfae",
   "metadata": {},
   "source": [
    "Write a short program that prints the numbers 1 to 10 using a for loop. Then write an equivalent program that prints the numbers 1 to 10 using a while loop.\n",
    "->\n",
    "for n in range (1, 11):\n",
    "    print(n)\n",
    "\n",
    "n = 1\n",
    "while(n<11):\n",
    "    print(n)\n",
    "    n+=1"
   ]
  },
  {
   "cell_type": "raw",
   "id": "3b57df42",
   "metadata": {},
   "source": [
    "If you had a function named bacon() inside a module named spam, how would you call it after importing spam?\n",
    "->\n",
    "import spam\n",
    "spam.bacon()"
   ]
  },
  {
   "cell_type": "code",
   "execution_count": null,
   "id": "c23b14ec",
   "metadata": {},
   "outputs": [],
   "source": []
  }
 ],
 "metadata": {
  "kernelspec": {
   "display_name": "Python 3 (ipykernel)",
   "language": "python",
   "name": "python3"
  },
  "language_info": {
   "codemirror_mode": {
    "name": "ipython",
    "version": 3
   },
   "file_extension": ".py",
   "mimetype": "text/x-python",
   "name": "python",
   "nbconvert_exporter": "python",
   "pygments_lexer": "ipython3",
   "version": "3.9.7"
  }
 },
 "nbformat": 4,
 "nbformat_minor": 5
}
